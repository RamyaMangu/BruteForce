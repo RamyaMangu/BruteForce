{
 "cells": [
  {
   "cell_type": "markdown",
   "id": "e9bbbc89",
   "metadata": {},
   "source": [
    "# Imports and running the required files"
   ]
  },
  {
   "cell_type": "code",
   "execution_count": 1,
   "id": "a737522d",
   "metadata": {},
   "outputs": [
    {
     "name": "stderr",
     "output_type": "stream",
     "text": [
      "C:\\Users\\mangu\\AppData\\Local\\Temp\\ipykernel_12972\\1802624429.py:49: FutureWarning: The default value of regex will change from True to False in a future version.\n",
      "  df['processed'] = df['processed'].str.replace('http[^\\s]*',\"\")\n",
      "C:\\Users\\mangu\\AppData\\Local\\Temp\\ipykernel_12972\\1802624429.py:73: FutureWarning: The default value of regex will change from True to False in a future version.\n",
      "  df['processed'] = df['processed'] .str.replace('[...…]','').str.split().apply(lambda x: ' '.join([replacers.get(e, e) for e in x]))\n"
     ]
    }
   ],
   "source": [
    "import pandas as pd\n",
    "import numpy as np\n",
    "from flashtext import KeywordProcessor\n",
    "import keras\n",
    "%run Preprocess.ipynb"
   ]
  },
  {
   "cell_type": "code",
   "execution_count": 2,
   "id": "bd386cea",
   "metadata": {},
   "outputs": [],
   "source": [
    "# Glove vector contains a 50 dimensional vector corresponding to each word in dictionary.\n",
    "vocab = 'glove.6B.50d.txt'\n",
    "# embeddings_index is a dictionary which contains the mapping of\n",
    "# word with its corresponding 50d vector.\n",
    "embeddings_index = {}\n",
    "with open(vocab, encoding='utf8') as f:\n",
    "    for line in f:\n",
    "        # splitting each line of the glove.6B.50d in a list of items- in which\n",
    "        # the first element is the word to be embedded, and from second\n",
    "        # to the end of line contains the 50d vector.\n",
    "        values = line.rstrip().rsplit(' ')\n",
    "        word = values[0]\n",
    "        coefs = np.asarray(values[1:], dtype='float32')\n",
    "        embeddings_index[word] = coefs\n",
    "\n",
    "#Now we construct a 50 dimensional matrix based on the word index that we have created as a part of prepocessing\n",
    "embedding_matrix = np.zeros((len(word_index)+1, 50))\n",
    "for word, index in word_index.items():\n",
    "    embedding_vector = embeddings_index.get(word)\n",
    "    if embedding_vector is not None: #If the word is present the we add the respective vector to the matrix\n",
    "        embedding_matrix[index] = embedding_vector\n",
    "    else: #else we append 50 zeroes\n",
    "        embedding_matrix[index] = np.zeros(50)"
   ]
  }
 ],
 "metadata": {
  "kernelspec": {
   "display_name": "Python 3 (ipykernel)",
   "language": "python",
   "name": "python3"
  },
  "language_info": {
   "codemirror_mode": {
    "name": "ipython",
    "version": 3
   },
   "file_extension": ".py",
   "mimetype": "text/x-python",
   "name": "python",
   "nbconvert_exporter": "python",
   "pygments_lexer": "ipython3",
   "version": "3.9.12"
  }
 },
 "nbformat": 4,
 "nbformat_minor": 5
}
