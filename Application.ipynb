{
 "cells": [
  {
   "cell_type": "markdown",
   "id": "836c6e93",
   "metadata": {},
   "source": [
    "# Imports"
   ]
  },
  {
   "cell_type": "code",
   "execution_count": null,
   "id": "fa877d45",
   "metadata": {},
   "outputs": [],
   "source": [
    "import pandas as pd\n",
    "import numpy as np\n",
    "from keras.preprocessing.text import Tokenizer\n",
    "from keras_preprocessing.sequence import pad_sequences\n",
    "%run Preprocess.ipynb\n",
    "import tweepy\n",
    "import pickle\n",
    "from keras.models import load_model"
   ]
  },
  {
   "cell_type": "markdown",
   "id": "72c762fc",
   "metadata": {},
   "source": [
    "# Applying the model on the tweets"
   ]
  },
  {
   "cell_type": "markdown",
   "id": "9d2aeda7",
   "metadata": {},
   "source": [
    "Happy Hashtag"
   ]
  },
  {
   "cell_type": "code",
   "execution_count": null,
   "id": "e98b10ba",
   "metadata": {},
   "outputs": [],
   "source": [
    "#Importing the saved model\n",
    "model = load_model('model.h5')\n",
    "\n",
    "#Connecting to the Twitter API to extract the tweets\n",
    "client = tweepy.Client(bearer_token='AAAAAAAAAAAAAAAAAAAAAHiaigEAAAAA1hzpI79DUjAi9q8PvGD7lfTzWjQ%3Dw9PNTdJGBWQOWxJjY9l5yP1Z7fglAF5SQGbLN6LrzUHQ5Gvbkd')\n",
    "\n",
    "#Getting the tweets related to a speicifc topic\n",
    "# -is:retweet means we don't want retweets\n",
    "query = 'happy -is:retweet'\n",
    "tweets = client.search_recent_tweets(query = query, tweet_fields=['context_annotations', 'created_at'], max_results=100)\n",
    "tweet_lst = [tweet.text for tweet in tweets.data]\n",
    "\n",
    "#Labelling the text column to content and converting it into a dataframe\n",
    "data = {'content': tweet_lst}\n",
    "tweet_df = DataFrame(data)\n",
    "tweet_pro = preprocess(tweet_df)\n",
    "\n",
    "#Preprocessing the input tweets, converting the labels and padding the texts\n",
    "x_dat = tweet_pro['processed']\n",
    "x_seq = tokenizer.texts_to_sequences(x_dat)\n",
    "x_data = pad_sequences(x_seq, maxlen = 34, padding='post')\n",
    "\n",
    "#Predicting the emotions based on the saved model\n",
    "y_pred = model.predict(x_data)\n",
    "\n",
    "#Using the encoder file we saved which consists of the labels, we ouput the predictions with their respective labels\n",
    "with open('encoder', 'rb') as file:\n",
    "    encoder = pickle.load(file)\n",
    "for index, value in enumerate(np.sum(y_pred, axis=0) / len(y_pred)):\n",
    "    print(encoder.classes_[index] + \": \" + str(value * 100))"
   ]
  },
  {
   "cell_type": "markdown",
   "id": "235468b0",
   "metadata": {},
   "source": [
    "Sad Hashtag"
   ]
  },
  {
   "cell_type": "code",
   "execution_count": null,
   "id": "142ee1bc",
   "metadata": {},
   "outputs": [],
   "source": [
    "#Getting the tweets related to a speicifc topic\n",
    "# -is:retweet means we don't want retweets\n",
    "query = 'sad -is:retweet'\n",
    "tweets = client.search_recent_tweets(query = query, tweet_fields=['context_annotations', 'created_at'], max_results=100)\n",
    "tweet_lst = [tweet.text for tweet in tweets.data]\n",
    "\n",
    "#Labelling the text column to content and converting it into a dataframe\n",
    "data = {'content': tweet_lst}\n",
    "tweet_df = DataFrame(data)\n",
    "tweet_pro = preprocess(tweet_df)\n",
    "\n",
    "#Preprocessing the input tweets, converting the labels and padding the texts\n",
    "x_dat = tweet_pro['processed']\n",
    "x_seq = tokenizer.texts_to_sequences(x_dat)\n",
    "x_data = pad_sequences(x_seq, maxlen = 34, padding='post')\n",
    "\n",
    "#Predicting the emotions based on the saved model\n",
    "y_pred = model.predict(x_data)\n",
    "\n",
    "#Using the encoder file we saved which consists of the labels, we ouput the predictions with their respective labels\n",
    "with open('encoder', 'rb') as file:\n",
    "    encoder = pickle.load(file)\n",
    "for index, value in enumerate(np.sum(y_pred, axis=0) / len(y_pred)):\n",
    "    print(encoder.classes_[index] + \": \" + str(value * 100))"
   ]
  },
  {
   "cell_type": "markdown",
   "id": "88cedcc2",
   "metadata": {},
   "source": [
    "covid hashtag"
   ]
  },
  {
   "cell_type": "code",
   "execution_count": null,
   "id": "ae939f78",
   "metadata": {},
   "outputs": [],
   "source": [
    "#Getting the tweets related to a speicifc topic\n",
    "# -is:retweet means we don't want retweets\n",
    "query = 'covid -is:retweet'\n",
    "tweets = client.search_recent_tweets(query = query, tweet_fields=['context_annotations', 'created_at'], max_results=100)\n",
    "tweet_lst = [tweet.text for tweet in tweets.data]\n",
    "\n",
    "#Labelling the text column to content and converting it into a dataframe\n",
    "data = {'content': tweet_lst}\n",
    "tweet_df = DataFrame(data)\n",
    "tweet_pro = preprocess(tweet_df)\n",
    "\n",
    "#Preprocessing the input tweets, converting the labels and padding the texts\n",
    "x_dat = tweet_pro['processed']\n",
    "x_seq = tokenizer.texts_to_sequences(x_dat)\n",
    "x_data = pad_sequences(x_seq, maxlen = 34, padding='post')\n",
    "\n",
    "#Predicting the emotions based on the saved model\n",
    "y_pred = model.predict(x_data)\n",
    "\n",
    "#Using the encoder file we saved which consists of the labels, we ouput the predictions with their respective labels\n",
    "with open('encoder', 'rb') as file:\n",
    "    encoder = pickle.load(file)\n",
    "for index, value in enumerate(np.sum(y_pred, axis=0) / len(y_pred)):\n",
    "    print(encoder.classes_[index] + \": \" + str(value * 100))"
   ]
  },
  {
   "cell_type": "markdown",
   "id": "bd6aedd4",
   "metadata": {},
   "source": [
    "BlacklivesMatter hashtag"
   ]
  },
  {
   "cell_type": "code",
   "execution_count": null,
   "id": "4eb9db3a",
   "metadata": {},
   "outputs": [],
   "source": [
    "#Getting the tweets related to a speicifc topic\n",
    "# -is:retweet means we don't want retweets\n",
    "query = 'blacklivesmatter -is:retweet'\n",
    "tweets = client.search_recent_tweets(query = query, tweet_fields=['context_annotations', 'created_at'], max_results=100)\n",
    "tweet_lst = [tweet.text for tweet in tweets.data]\n",
    "\n",
    "#Labelling the text column to content and converting it into a dataframe\n",
    "data = {'content': tweet_lst}\n",
    "tweet_df = DataFrame(data)\n",
    "tweet_pro = preprocess(tweet_df)\n",
    "\n",
    "#Preprocessing the input tweets, converting the labels and padding the texts\n",
    "x_dat = tweet_pro['processed']\n",
    "x_seq = tokenizer.texts_to_sequences(x_dat)\n",
    "x_data = pad_sequences(x_seq, maxlen = 34, padding='post')\n",
    "\n",
    "#Predicting the emotions based on the saved model\n",
    "y_pred = model.predict(x_data)\n",
    "\n",
    "#Using the encoder file we saved which consists of the labels, we ouput the predictions with their respective labels\n",
    "with open('encoder', 'rb') as file:\n",
    "    encoder = pickle.load(file)\n",
    "for index, value in enumerate(np.sum(y_pred, axis=0) / len(y_pred)):\n",
    "    print(encoder.classes_[index] + \": \" + str(value * 100))"
   ]
  },
  {
   "cell_type": "markdown",
   "id": "04fdbdb6",
   "metadata": {},
   "source": [
    "Monday hashtag"
   ]
  },
  {
   "cell_type": "code",
   "execution_count": null,
   "id": "a097cf07",
   "metadata": {},
   "outputs": [],
   "source": [
    "#Getting the tweets related to a speicifc topic\n",
    "# -is:retweet means we don't want retweets\n",
    "query = 'monday -is:retweet'\n",
    "tweets = client.search_recent_tweets(query = query, tweet_fields=['context_annotations', 'created_at'], max_results=100)\n",
    "tweet_lst = [tweet.text for tweet in tweets.data]\n",
    "\n",
    "#Labelling the text column to content and converting it into a dataframe\n",
    "data = {'content': tweet_lst}\n",
    "tweet_df = DataFrame(data)\n",
    "tweet_pro = preprocess(tweet_df)\n",
    "\n",
    "#Preprocessing the input tweets, converting the labels and padding the texts\n",
    "x_dat = tweet_pro['processed']\n",
    "x_seq = tokenizer.texts_to_sequences(x_dat)\n",
    "x_data = pad_sequences(x_seq, maxlen = 34, padding='post')\n",
    "\n",
    "#Predicting the emotions based on the saved model\n",
    "y_pred = model.predict(x_data)\n",
    "\n",
    "#Using the encoder file we saved which consists of the labels, we ouput the predictions with their respective labels\n",
    "with open('encoder', 'rb') as file:\n",
    "    encoder = pickle.load(file)\n",
    "for index, value in enumerate(np.sum(y_pred, axis=0) / len(y_pred)):\n",
    "    print(encoder.classes_[index] + \": \" + str(value * 100))"
   ]
  },
  {
   "cell_type": "markdown",
   "id": "e5eb8e2b",
   "metadata": {},
   "source": [
    "Saturday hashtag"
   ]
  },
  {
   "cell_type": "code",
   "execution_count": null,
   "id": "7632becb",
   "metadata": {},
   "outputs": [],
   "source": [
    "#Getting the tweets related to a speicifc topic\n",
    "# -is:retweet means we don't want retweets\n",
    "query = 'saturday -is:retweet'\n",
    "tweets = client.search_recent_tweets(query = query, tweet_fields=['context_annotations', 'created_at'], max_results=100)\n",
    "tweet_lst = [tweet.text for tweet in tweets.data]\n",
    "\n",
    "#Labelling the text column to content and converting it into a dataframe\n",
    "data = {'content': tweet_lst}\n",
    "tweet_df = DataFrame(data)\n",
    "tweet_pro = preprocess(tweet_df)\n",
    "\n",
    "#Preprocessing the input tweets, converting the labels and padding the texts\n",
    "x_dat = tweet_pro['processed']\n",
    "x_seq = tokenizer.texts_to_sequences(x_dat)\n",
    "x_data = pad_sequences(x_seq, maxlen = 34, padding='post')\n",
    "\n",
    "#Predicting the emotions based on the saved model\n",
    "y_pred = model.predict(x_data)\n",
    "\n",
    "#Using the encoder file we saved which consists of the labels, we ouput the predictions with their respective labels\n",
    "with open('encoder', 'rb') as file:\n",
    "    encoder = pickle.load(file)\n",
    "for index, value in enumerate(np.sum(y_pred, axis=0) / len(y_pred)):\n",
    "    print(encoder.classes_[index] + \": \" + str(value * 100))"
   ]
  },
  {
   "cell_type": "markdown",
   "id": "5d1efa6a",
   "metadata": {},
   "source": [
    "Summer hashtag"
   ]
  },
  {
   "cell_type": "code",
   "execution_count": null,
   "id": "2de9fc3d",
   "metadata": {},
   "outputs": [],
   "source": [
    "#Getting the tweets related to a speicifc topic\n",
    "# -is:retweet means we don't want retweets\n",
    "query = 'summer -is:retweet'\n",
    "tweets = client.search_recent_tweets(query = query, tweet_fields=['context_annotations', 'created_at'], max_results=100)\n",
    "tweet_lst = [tweet.text for tweet in tweets.data]\n",
    "\n",
    "#Labelling the text column to content and converting it into a dataframe\n",
    "data = {'content': tweet_lst}\n",
    "tweet_df = DataFrame(data)\n",
    "tweet_pro = preprocess(tweet_df)\n",
    "\n",
    "#Preprocessing the input tweets, converting the labels and padding the texts\n",
    "x_dat = tweet_pro['processed']\n",
    "x_seq = tokenizer.texts_to_sequences(x_dat)\n",
    "x_data = pad_sequences(x_seq, maxlen = 34, padding='post')\n",
    "\n",
    "#Predicting the emotions based on the saved model\n",
    "y_pred = model.predict(x_data)\n",
    "\n",
    "#Using the encoder file we saved which consists of the labels, we ouput the predictions with their respective labels\n",
    "with open('encoder', 'rb') as file:\n",
    "    encoder = pickle.load(file)\n",
    "for index, value in enumerate(np.sum(y_pred, axis=0) / len(y_pred)):\n",
    "    print(encoder.classes_[index] + \": \" + str(value * 100))"
   ]
  },
  {
   "cell_type": "markdown",
   "id": "cabad253",
   "metadata": {},
   "source": [
    "Winter hashtag"
   ]
  },
  {
   "cell_type": "code",
   "execution_count": null,
   "id": "0d850bd9",
   "metadata": {},
   "outputs": [],
   "source": [
    "#Getting the tweets related to a speicifc topic\n",
    "# -is:retweet means we don't want retweets\n",
    "query = 'winter -is:retweet'\n",
    "tweets = client.search_recent_tweets(query = query, tweet_fields=['context_annotations', 'created_at'], max_results=100)\n",
    "tweet_lst = [tweet.text for tweet in tweets.data]\n",
    "\n",
    "#Labelling the text column to content and converting it into a dataframe\n",
    "data = {'content': tweet_lst}\n",
    "tweet_df = DataFrame(data)\n",
    "tweet_pro = preprocess(tweet_df)\n",
    "\n",
    "#Preprocessing the input tweets, converting the labels and padding the texts\n",
    "x_dat = tweet_pro['processed']\n",
    "x_seq = tokenizer.texts_to_sequences(x_dat)\n",
    "x_data = pad_sequences(x_seq, maxlen = 34, padding='post')\n",
    "\n",
    "#Predicting the emotions based on the saved model\n",
    "y_pred = model.predict(x_data)\n",
    "\n",
    "#Using the encoder file we saved which consists of the labels, we ouput the predictions with their respective labels\n",
    "with open('encoder', 'rb') as file:\n",
    "    encoder = pickle.load(file)\n",
    "for index, value in enumerate(np.sum(y_pred, axis=0) / len(y_pred)):\n",
    "    print(encoder.classes_[index] + \": \" + str(value * 100))"
   ]
  }
 ],
 "metadata": {
  "kernelspec": {
   "display_name": "Python 3 (ipykernel)",
   "language": "python",
   "name": "python3"
  },
  "language_info": {
   "codemirror_mode": {
    "name": "ipython",
    "version": 3
   },
   "file_extension": ".py",
   "mimetype": "text/x-python",
   "name": "python",
   "nbconvert_exporter": "python",
   "pygments_lexer": "ipython3",
   "version": "3.9.12"
  }
 },
 "nbformat": 4,
 "nbformat_minor": 5
}
