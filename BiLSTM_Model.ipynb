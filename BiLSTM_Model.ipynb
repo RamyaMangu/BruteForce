{
 "cells": [
  {
   "cell_type": "markdown",
   "id": "3b7b7b88",
   "metadata": {},
   "source": [
    "# Imports and Running the files"
   ]
  },
  {
   "cell_type": "code",
   "execution_count": 2,
   "id": "5a828afd",
   "metadata": {},
   "outputs": [
    {
     "name": "stderr",
     "output_type": "stream",
     "text": [
      "C:\\Users\\mangu\\AppData\\Local\\Temp\\ipykernel_13244\\1802624429.py:49: FutureWarning: The default value of regex will change from True to False in a future version.\n",
      "  df['processed'] = df['processed'].str.replace('http[^\\s]*',\"\")\n",
      "C:\\Users\\mangu\\AppData\\Local\\Temp\\ipykernel_13244\\1802624429.py:73: FutureWarning: The default value of regex will change from True to False in a future version.\n",
      "  df['processed'] = df['processed'] .str.replace('[...…]','').str.split().apply(lambda x: ' '.join([replacers.get(e, e) for e in x]))\n"
     ]
    }
   ],
   "source": [
    "%run WordEmbedds.ipynb\n",
    "import matplotlib.pyplot as plt\n",
    "import keras\n",
    "from keras.models import Sequential,Model\n",
    "from keras.layers import Dense,Bidirectional,LSTM,Embedding, GlobalMaxPooling1D, GlobalMaxPooling3D\n",
    "from tensorflow.keras.layers import Dropout\n",
    "from keras.callbacks import EarlyStopping, ModelCheckpoint"
   ]
  },
  {
   "cell_type": "markdown",
   "id": "67d55620",
   "metadata": {},
   "source": [
    "# Building the Model"
   ]
  },
  {
   "cell_type": "code",
   "execution_count": 5,
   "id": "2a4c107d",
   "metadata": {},
   "outputs": [],
   "source": [
    "#EarlyStopping and ModelCheckpoint to efficiently save the model when there is an improvement in the\n",
    "#accuracy is high or to stop when the accuracy is not improving further\n",
    "es = EarlyStopping(monitor = 'val_loss', mode = 'min', verbose = 1, patience = 5)\n",
    "mc = ModelCheckpoint('./model.h5', monitor = 'val_accuracy', mode = 'max', verbose = 1, save_best_only = True)\n",
    "def build_model(X,Y, classes):\n",
    "    #Dimension of our embeddings\n",
    "    model=Sequential()\n",
    "    #Embedding layer\n",
    "    model.add(Embedding(input_dim=len(word_index)+1, output_dim=50, input_length=len(X[0]), weights = [embedding_matrix], trainable=False))\n",
    "    #BiLSTM layers with dropouts\n",
    "    model.add(Dropout(0.2))\n",
    "    model.add(Bidirectional(LSTM(128, return_sequences=True)))\n",
    "    model.add(Dropout(0.2))\n",
    "    model.add(Bidirectional(LSTM(256, return_sequences=True)))\n",
    "    model.add(Dropout(0.2))\n",
    "    model.add(Bidirectional(LSTM(128)))\n",
    "    model.add(Dense(classes, activation = 'softmax'))\n",
    "    adam = keras.optimizers.Adam(learning_rate = 0.0001)\n",
    "    model.compile(optimizer=adam, loss='categorical_crossentropy', metrics=['accuracy'])\n",
    "    ep = model.fit(X, Y, batch_size=128, epochs=25, verbose = 1, validation_data=(X_valid, y_valid), callbacks= [es, mc])\n",
    "    return model, ep"
   ]
  },
  {
   "cell_type": "code",
   "execution_count": null,
   "id": "a2b2c61b",
   "metadata": {},
   "outputs": [],
   "source": [
    "#Building model with only 3 labels\n",
    "bilstmModel, his=build_model(X_train,y_train, 3)"
   ]
  },
  {
   "cell_type": "code",
   "execution_count": null,
   "id": "4d0db688",
   "metadata": {},
   "outputs": [],
   "source": [
    "#Plotting the training and validation accuracy\n",
    "plt.plot(his.history['accuracy'],c='b',label='train accuracy')\n",
    "plt.plot(his.history['val_accuracy'],c='r',label='validation accuracy')\n",
    "plt.title(\"BiLSTM model\")\n",
    "plt.legend(loc='lower right')\n",
    "plt.show()"
   ]
  },
  {
   "cell_type": "code",
   "execution_count": null,
   "id": "b1d7cf75",
   "metadata": {},
   "outputs": [],
   "source": [
    "#Predicting the model on the test data\n",
    "y_pred =   np.argmax(bilstmModel.predict(X_test), axis  =  1)\n",
    "y_true = np.argmax(y_test, axis = 1)\n",
    "from sklearn import metrics\n",
    "print(metrics.classification_report(y_pred, y_true))"
   ]
  }
 ],
 "metadata": {
  "kernelspec": {
   "display_name": "Python 3 (ipykernel)",
   "language": "python",
   "name": "python3"
  },
  "language_info": {
   "codemirror_mode": {
    "name": "ipython",
    "version": 3
   },
   "file_extension": ".py",
   "mimetype": "text/x-python",
   "name": "python",
   "nbconvert_exporter": "python",
   "pygments_lexer": "ipython3",
   "version": "3.9.12"
  }
 },
 "nbformat": 4,
 "nbformat_minor": 5
}
